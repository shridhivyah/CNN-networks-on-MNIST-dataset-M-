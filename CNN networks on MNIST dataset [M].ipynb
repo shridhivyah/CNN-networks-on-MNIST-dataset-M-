{
  "nbformat": 4,
  "nbformat_minor": 0,
  "metadata": {
    "colab": {
      "name": "divyachowdhary50@gmail.com_13.ipynb",
      "version": "0.3.2",
      "provenance": []
    },
    "kernelspec": {
      "name": "python3",
      "display_name": "Python 3"
    },
    "accelerator": "GPU"
  },
  "cells": [
    {
      "cell_type": "markdown",
      "metadata": {
        "id": "_aX8NgWC2qog",
        "colab_type": "text"
      },
      "source": [
        "**Assignment-13: Try various CNN networks on MNIST dataset [M]¶**"
      ]
    },
    {
      "cell_type": "markdown",
      "metadata": {
        "id": "IhBbYDkR2-4g",
        "colab_type": "text"
      },
      "source": [
        "Three different architecture of CNN network on MNIST datasets."
      ]
    },
    {
      "cell_type": "markdown",
      "metadata": {
        "id": "hakgGMVc3BG8",
        "colab_type": "text"
      },
      "source": [
        "**Objective:**\n",
        "\n",
        "    1) 3_ConvNets with kernel 3x3\n",
        "    2) 5_ConvNets with kernel 5x5\n",
        "    3) 7_ConvnNets with kernel 2x2"
      ]
    },
    {
      "cell_type": "code",
      "metadata": {
        "id": "s5NCqzr33L8S",
        "colab_type": "code",
        "outputId": "e7fea745-a2a0-48e9-b269-c438163b4ed6",
        "colab": {
          "base_uri": "https://localhost:8080/",
          "height": 35
        }
      },
      "source": [
        "# Credits: https://github.com/keras-team/keras/blob/master/examples/mnist_cnn.py\n",
        "\n",
        "from datetime import datetime\n",
        "from __future__ import print_function\n",
        "import keras\n",
        "from keras.datasets import mnist\n",
        "from keras.models import Sequential\n",
        "from keras.layers import Dense, Dropout, Flatten\n",
        "from keras.layers import Conv2D, MaxPooling2D\n",
        "from keras import backend as K\n",
        "\n",
        "from keras.initializers import he_normal\n",
        "from keras.layers.normalization import BatchNormalization\n",
        "\n",
        "\n",
        "batch_size = 128\n",
        "num_classes = 10\n",
        "epochs = 12\n",
        "\n",
        "# input image dimensions\n",
        "img_rows, img_cols = 28, 28"
      ],
      "execution_count": 0,
      "outputs": [
        {
          "output_type": "stream",
          "text": [
            "Using TensorFlow backend.\n"
          ],
          "name": "stderr"
        }
      ]
    },
    {
      "cell_type": "code",
      "metadata": {
        "id": "SGUEMZ8W2Gl7",
        "colab_type": "code",
        "outputId": "e5ae9066-6500-4bbf-8015-52c53905d19e",
        "colab": {
          "base_uri": "https://localhost:8080/",
          "height": 52
        }
      },
      "source": [
        "(x_train, y_train), (x_test, y_test) = mnist.load_data()"
      ],
      "execution_count": 0,
      "outputs": [
        {
          "output_type": "stream",
          "text": [
            "Downloading data from https://s3.amazonaws.com/img-datasets/mnist.npz\n",
            "11493376/11490434 [==============================] - 0s 0us/step\n"
          ],
          "name": "stdout"
        }
      ]
    },
    {
      "cell_type": "markdown",
      "metadata": {
        "id": "wx1M6wqm291r",
        "colab_type": "text"
      },
      "source": [
        ""
      ]
    },
    {
      "cell_type": "code",
      "metadata": {
        "id": "Rhg39NmZ2SEJ",
        "colab_type": "code",
        "outputId": "1bd02b15-ab8d-466c-babe-3b3d68f3ef21",
        "colab": {
          "base_uri": "https://localhost:8080/",
          "height": 70
        }
      },
      "source": [
        "if K.image_data_format() == 'channels_first':\n",
        "    x_train = x_train.reshape(x_train.shape[0], 1, img_rows, img_cols)\n",
        "    x_test = x_test.reshape(x_test.shape[0], 1, img_rows, img_cols)\n",
        "    input_shape = (1, img_rows, img_cols)\n",
        "else:\n",
        "    x_train = x_train.reshape(x_train.shape[0], img_rows, img_cols, 1)\n",
        "    x_test = x_test.reshape(x_test.shape[0], img_rows, img_cols, 1)\n",
        "    input_shape = (img_rows, img_cols, 1)\n",
        "\n",
        "x_train = x_train.astype('float32')\n",
        "x_test = x_test.astype('float32')\n",
        "x_train /= 255\n",
        "x_test /= 255\n",
        "print('x_train shape:', x_train.shape)\n",
        "print(x_train.shape[0], 'train samples')\n",
        "print(x_test.shape[0], 'test samples')\n",
        "\n",
        "# convert class vectors to binary class matrices\n",
        "y_train = keras.utils.to_categorical(y_train, num_classes)\n",
        "y_test = keras.utils.to_categorical(y_test, num_classes)"
      ],
      "execution_count": 0,
      "outputs": [
        {
          "output_type": "stream",
          "text": [
            "x_train shape: (60000, 28, 28, 1)\n",
            "60000 train samples\n",
            "10000 test samples\n"
          ],
          "name": "stdout"
        }
      ]
    },
    {
      "cell_type": "code",
      "metadata": {
        "id": "pwUAMF8G2VW7",
        "colab_type": "code",
        "outputId": "45ac90e7-5e63-429d-b1fa-80a42f532e1a",
        "colab": {
          "base_uri": "https://localhost:8080/",
          "height": 35
        }
      },
      "source": [
        "print(y_train.shape)"
      ],
      "execution_count": 0,
      "outputs": [
        {
          "output_type": "stream",
          "text": [
            "(60000, 10)\n"
          ],
          "name": "stdout"
        }
      ]
    },
    {
      "cell_type": "code",
      "metadata": {
        "id": "Gq9D4edT2cbe",
        "colab_type": "code",
        "colab": {}
      },
      "source": [
        "%matplotlib inline\n",
        "import matplotlib.pyplot as plt\n",
        "import numpy as np\n",
        "import time\n",
        "# https://gist.github.com/greydanus/f6eee59eaf1d90fcb3b534a25362cea4\n",
        "# https://stackoverflow.com/a/14434334\n",
        "# this function is used to update the plots for each epoch and error\n",
        "def plt_dynamic(x, vy, ty):\n",
        "  fig = plt.figure( facecolor='y', edgecolor='k')\n",
        "  plt.plot(x, vy, 'b', label=\"Validation Loss\")\n",
        "  plt.plot(x, ty, 'r', label=\"Train Loss\")\n",
        "  plt.xlabel('Epochs') \n",
        "  plt.ylabel('Categorical Crossentropy Loss')\n",
        "  plt.legend()\n",
        "  plt.grid()\n",
        "  plt.show()"
      ],
      "execution_count": 0,
      "outputs": []
    },
    {
      "cell_type": "markdown",
      "metadata": {
        "id": "dHm4bkZo3bqW",
        "colab_type": "text"
      },
      "source": [
        "**1) Model:3_ConvNets with kernel 3x3**"
      ]
    },
    {
      "cell_type": "code",
      "metadata": {
        "id": "_chY4bgS3mOA",
        "colab_type": "code",
        "outputId": "7774d0dd-49dc-4405-86be-f593d954cf2d",
        "colab": {
          "base_uri": "https://localhost:8080/",
          "height": 819
        }
      },
      "source": [
        "convnet3=Sequential() # Initializing the model\n",
        "\n",
        "# First ConvNet\n",
        "convnet3.add(Conv2D(32,kernel_size=(3,3), activation='relu', input_shape=input_shape))\n",
        "convnet3.add(Conv2D(64,kernel_size=(3,3),activation='relu'))\n",
        "convnet3.add(Dropout(0.25))\n",
        "convnet3.add(Conv2D(128,kernel_size=(3,3),activation='relu'))\n",
        "\n",
        "#maxpooling by (2,2 ) ,dropout,flattening\n",
        "\n",
        "convnet3.add(MaxPooling2D(pool_size=(2,2)))\n",
        "convnet3.add(Dropout(0.25))\n",
        "convnet3.add(Flatten())\n",
        "\n",
        "#hidden_layer\n",
        "\n",
        "convnet3.add(Dense(256,activation='relu',kernel_initializer=he_normal(seed=None)))\n",
        "convnet3.add(Dropout(0.5))\n",
        "convnet3.add(Dense(num_classes,activation='softmax'))\n",
        "print(convnet3.summary())\n"
      ],
      "execution_count": 0,
      "outputs": [
        {
          "output_type": "stream",
          "text": [
            "WARNING: Logging before flag parsing goes to stderr.\n",
            "W0813 11:54:30.469006 140003642705792 deprecation_wrapper.py:119] From /usr/local/lib/python3.6/dist-packages/keras/backend/tensorflow_backend.py:74: The name tf.get_default_graph is deprecated. Please use tf.compat.v1.get_default_graph instead.\n",
            "\n",
            "W0813 11:54:30.505269 140003642705792 deprecation_wrapper.py:119] From /usr/local/lib/python3.6/dist-packages/keras/backend/tensorflow_backend.py:517: The name tf.placeholder is deprecated. Please use tf.compat.v1.placeholder instead.\n",
            "\n",
            "W0813 11:54:30.511998 140003642705792 deprecation_wrapper.py:119] From /usr/local/lib/python3.6/dist-packages/keras/backend/tensorflow_backend.py:4138: The name tf.random_uniform is deprecated. Please use tf.random.uniform instead.\n",
            "\n",
            "W0813 11:54:30.554095 140003642705792 deprecation_wrapper.py:119] From /usr/local/lib/python3.6/dist-packages/keras/backend/tensorflow_backend.py:133: The name tf.placeholder_with_default is deprecated. Please use tf.compat.v1.placeholder_with_default instead.\n",
            "\n",
            "W0813 11:54:30.563224 140003642705792 deprecation.py:506] From /usr/local/lib/python3.6/dist-packages/keras/backend/tensorflow_backend.py:3445: calling dropout (from tensorflow.python.ops.nn_ops) with keep_prob is deprecated and will be removed in a future version.\n",
            "Instructions for updating:\n",
            "Please use `rate` instead of `keep_prob`. Rate should be set to `rate = 1 - keep_prob`.\n",
            "W0813 11:54:30.589219 140003642705792 deprecation_wrapper.py:119] From /usr/local/lib/python3.6/dist-packages/keras/backend/tensorflow_backend.py:3976: The name tf.nn.max_pool is deprecated. Please use tf.nn.max_pool2d instead.\n",
            "\n",
            "W0813 11:54:30.616735 140003642705792 deprecation_wrapper.py:119] From /usr/local/lib/python3.6/dist-packages/keras/backend/tensorflow_backend.py:4185: The name tf.truncated_normal is deprecated. Please use tf.random.truncated_normal instead.\n",
            "\n"
          ],
          "name": "stderr"
        },
        {
          "output_type": "stream",
          "text": [
            "_________________________________________________________________\n",
            "Layer (type)                 Output Shape              Param #   \n",
            "=================================================================\n",
            "conv2d_1 (Conv2D)            (None, 26, 26, 32)        320       \n",
            "_________________________________________________________________\n",
            "conv2d_2 (Conv2D)            (None, 24, 24, 64)        18496     \n",
            "_________________________________________________________________\n",
            "dropout_1 (Dropout)          (None, 24, 24, 64)        0         \n",
            "_________________________________________________________________\n",
            "conv2d_3 (Conv2D)            (None, 22, 22, 128)       73856     \n",
            "_________________________________________________________________\n",
            "max_pooling2d_1 (MaxPooling2 (None, 11, 11, 128)       0         \n",
            "_________________________________________________________________\n",
            "dropout_2 (Dropout)          (None, 11, 11, 128)       0         \n",
            "_________________________________________________________________\n",
            "flatten_1 (Flatten)          (None, 15488)             0         \n",
            "_________________________________________________________________\n",
            "dense_1 (Dense)              (None, 256)               3965184   \n",
            "_________________________________________________________________\n",
            "dropout_3 (Dropout)          (None, 256)               0         \n",
            "_________________________________________________________________\n",
            "dense_2 (Dense)              (None, 10)                2570      \n",
            "=================================================================\n",
            "Total params: 4,060,426\n",
            "Trainable params: 4,060,426\n",
            "Non-trainable params: 0\n",
            "_________________________________________________________________\n",
            "None\n"
          ],
          "name": "stdout"
        }
      ]
    },
    {
      "cell_type": "code",
      "metadata": {
        "id": "LoXYSoLkCLq0",
        "colab_type": "code",
        "outputId": "a90bed2d-77e5-4004-8187-080c4778fa62",
        "colab": {
          "base_uri": "https://localhost:8080/",
          "height": 570
        }
      },
      "source": [
        "#Model compilation\n",
        "convnet3.compile(optimizer=keras.optimizers.Adam(),\n",
        "                loss=keras.losses.categorical_crossentropy,\n",
        "                metrics=['accuracy'])\n",
        "convnet3_history=convnet3.fit(x_train,y_train,batch_size=batch_size,\n",
        "                             epochs=epochs,\n",
        "                             verbose=1,\n",
        "                             validation_data=(x_test, y_test))"
      ],
      "execution_count": 0,
      "outputs": [
        {
          "output_type": "stream",
          "text": [
            "W0813 11:54:30.686633 140003642705792 deprecation_wrapper.py:119] From /usr/local/lib/python3.6/dist-packages/keras/optimizers.py:790: The name tf.train.Optimizer is deprecated. Please use tf.compat.v1.train.Optimizer instead.\n",
            "\n",
            "W0813 11:54:30.801898 140003642705792 deprecation.py:323] From /usr/local/lib/python3.6/dist-packages/tensorflow/python/ops/math_grad.py:1250: add_dispatch_support.<locals>.wrapper (from tensorflow.python.ops.array_ops) is deprecated and will be removed in a future version.\n",
            "Instructions for updating:\n",
            "Use tf.where in 2.0, which has the same broadcast rule as np.where\n"
          ],
          "name": "stderr"
        },
        {
          "output_type": "stream",
          "text": [
            "Train on 60000 samples, validate on 10000 samples\n",
            "Epoch 1/12\n",
            "60000/60000 [==============================] - 18s 294us/step - loss: 0.1846 - acc: 0.9429 - val_loss: 0.0429 - val_acc: 0.9853\n",
            "Epoch 2/12\n",
            "60000/60000 [==============================] - 10s 169us/step - loss: 0.0625 - acc: 0.9815 - val_loss: 0.0292 - val_acc: 0.9901\n",
            "Epoch 3/12\n",
            "60000/60000 [==============================] - 10s 169us/step - loss: 0.0447 - acc: 0.9861 - val_loss: 0.0257 - val_acc: 0.9908\n",
            "Epoch 4/12\n",
            "60000/60000 [==============================] - 10s 170us/step - loss: 0.0364 - acc: 0.9888 - val_loss: 0.0255 - val_acc: 0.9922\n",
            "Epoch 5/12\n",
            "60000/60000 [==============================] - 10s 169us/step - loss: 0.0306 - acc: 0.9905 - val_loss: 0.0239 - val_acc: 0.9920\n",
            "Epoch 6/12\n",
            "60000/60000 [==============================] - 10s 170us/step - loss: 0.0268 - acc: 0.9911 - val_loss: 0.0250 - val_acc: 0.9918\n",
            "Epoch 7/12\n",
            "60000/60000 [==============================] - 10s 171us/step - loss: 0.0232 - acc: 0.9923 - val_loss: 0.0257 - val_acc: 0.9913\n",
            "Epoch 8/12\n",
            "60000/60000 [==============================] - 10s 170us/step - loss: 0.0203 - acc: 0.9935 - val_loss: 0.0221 - val_acc: 0.9921\n",
            "Epoch 9/12\n",
            "60000/60000 [==============================] - 10s 170us/step - loss: 0.0182 - acc: 0.9942 - val_loss: 0.0256 - val_acc: 0.9926\n",
            "Epoch 10/12\n",
            "60000/60000 [==============================] - 10s 170us/step - loss: 0.0173 - acc: 0.9947 - val_loss: 0.0266 - val_acc: 0.9928\n",
            "Epoch 11/12\n",
            "60000/60000 [==============================] - 10s 170us/step - loss: 0.0163 - acc: 0.9948 - val_loss: 0.0285 - val_acc: 0.9925\n",
            "Epoch 12/12\n",
            "60000/60000 [==============================] - 10s 170us/step - loss: 0.0147 - acc: 0.9951 - val_loss: 0.0300 - val_acc: 0.9924\n"
          ],
          "name": "stdout"
        }
      ]
    },
    {
      "cell_type": "code",
      "metadata": {
        "id": "sB0aHlSxZn63",
        "colab_type": "code",
        "outputId": "5db2092f-035a-44f3-b37e-3d3d4130b3f7",
        "colab": {
          "base_uri": "https://localhost:8080/",
          "height": 318
        }
      },
      "source": [
        "#evaluating model\n",
        "\n",
        "score=convnet3.evaluate(x_test,y_test,verbose=0)\n",
        "test_score3=score[0]\n",
        "test_accuracy3=score[1]\n",
        "train_accuracy3=max(convnet3_history.history['acc'])\n",
        "print('test score :',test_score3)\n",
        "print('test sccuracy :',test_accuracy3)\n",
        "# error plot\n",
        "x=list(range(1,epochs+1))\n",
        "vy=convnet3_history.history['val_loss'] #validation loss\n",
        "ty=convnet3_history.history['loss'] # train loss\n",
        "plt_dynamic(x, vy, ty)"
      ],
      "execution_count": 0,
      "outputs": [
        {
          "output_type": "stream",
          "text": [
            "test score : 0.030047715408694057\n",
            "test sccuracy : 0.9924\n"
          ],
          "name": "stdout"
        },
        {
          "output_type": "display_data",
          "data": {
            "image/png": "[encoded data removed]",
            "text/plain": [
              "<Figure size 432x288 with 1 Axes>"
            ]
          },
          "metadata": {
            "tags": []
          }
        }
      ]
    },
    {
      "cell_type": "markdown",
      "metadata": {
        "id": "8ILeFSSHaHLs",
        "colab_type": "text"
      },
      "source": [
        "**2 Model:5 ConvNet with kernel_size=(5x5)**"
      ]
    },
    {
      "cell_type": "code",
      "metadata": {
        "id": "RUmKWAn7aZiS",
        "colab_type": "code",
        "outputId": "fa5ebcf8-154a-40bd-c2a1-c63743749c15",
        "colab": {
          "base_uri": "https://localhost:8080/",
          "height": 799
        }
      },
      "source": [
        "convnet5=Sequential() # Initializing the model\n",
        "\n",
        "# First ConvNet\n",
        "convnet5.add(Conv2D(32,kernel_size=(5,5),\n",
        "                    activation='relu',\n",
        "                    padding='same',\n",
        "                    input_shape=input_shape))\n",
        "\n",
        "convnet5.add(Conv2D(64,kernel_size=(5,5),\n",
        "                    padding='same',\n",
        "                    activation='relu'))#Second Convnet\n",
        "convnet5.add(MaxPooling2D(pool_size=(2,2)))\n",
        "convnet5.add(Dropout(0.25))\n",
        "\n",
        "convnet5.add(Conv2D(96,kernel_size=(5,5),\n",
        "                    padding='same',\n",
        "                   activation='relu'))  # 3rd ConvNet\n",
        "#maxpooling by (2,2 ) ,dropout,flattening\n",
        "convnet5.add(MaxPooling2D(pool_size=(2,2)))\n",
        "convnet5.add(Dropout(0.25))\n",
        "\n",
        "convnet5.add(Conv2D(128,kernel_size=(5,5),\n",
        "                    padding='same',\n",
        "                    activation='relu'))#fourth Convnet\n",
        "convnet5.add(MaxPooling2D(pool_size=(2,2)))\n",
        "convnet5.add(Dropout(0.25))\n",
        "convnet5.add(Conv2D(164,kernel_size=(5,5),\n",
        "                    padding='same',\n",
        "                    activation='relu'))#fifth Convnet\n",
        "convnet5.add(MaxPooling2D(pool_size=(2,2)))\n",
        "convnet5.add(Dropout(0.25))\n",
        "convnet5.add(Flatten())\n",
        "\n",
        "#hidden_layer\n",
        "convnet5.add(Dense(256,\n",
        "                   activation='relu',kernel_initializer=he_normal(seed=None)))\n",
        "convnet5.add(BatchNormalization())\n",
        "convnet5.add(Dropout(0.5))\n",
        "convnet5.add(Dense(num_classes,activation='softmax'))\n",
        "print(convnet5.summary())"
      ],
      "execution_count": 0,
      "outputs": [
        {
          "output_type": "stream",
          "text": [
            "_________________________________________________________________\n",
            "Layer (type)                 Output Shape              Param #   \n",
            "=================================================================\n",
            "conv2d_4 (Conv2D)            (None, 28, 28, 32)        832       \n",
            "_________________________________________________________________\n",
            "conv2d_5 (Conv2D)            (None, 28, 28, 64)        51264     \n",
            "_________________________________________________________________\n",
            "max_pooling2d_2 (MaxPooling2 (None, 14, 14, 64)        0         \n",
            "_________________________________________________________________\n",
            "dropout_4 (Dropout)          (None, 14, 14, 64)        0         \n",
            "_________________________________________________________________\n",
            "conv2d_6 (Conv2D)            (None, 14, 14, 96)        153696    \n",
            "_________________________________________________________________\n",
            "max_pooling2d_3 (MaxPooling2 (None, 7, 7, 96)          0         \n",
            "_________________________________________________________________\n",
            "dropout_5 (Dropout)          (None, 7, 7, 96)          0         \n",
            "_________________________________________________________________\n",
            "conv2d_7 (Conv2D)            (None, 7, 7, 128)         307328    \n",
            "_________________________________________________________________\n",
            "max_pooling2d_4 (MaxPooling2 (None, 3, 3, 128)         0         \n",
            "_________________________________________________________________\n",
            "dropout_6 (Dropout)          (None, 3, 3, 128)         0         \n",
            "_________________________________________________________________\n",
            "conv2d_8 (Conv2D)            (None, 3, 3, 164)         524964    \n",
            "_________________________________________________________________\n",
            "max_pooling2d_5 (MaxPooling2 (None, 1, 1, 164)         0         \n",
            "_________________________________________________________________\n",
            "dropout_7 (Dropout)          (None, 1, 1, 164)         0         \n",
            "_________________________________________________________________\n",
            "flatten_2 (Flatten)          (None, 164)               0         \n",
            "_________________________________________________________________\n",
            "dense_3 (Dense)              (None, 256)               42240     \n",
            "_________________________________________________________________\n",
            "batch_normalization_1 (Batch (None, 256)               1024      \n",
            "_________________________________________________________________\n",
            "dropout_8 (Dropout)          (None, 256)               0         \n",
            "_________________________________________________________________\n",
            "dense_4 (Dense)              (None, 10)                2570      \n",
            "=================================================================\n",
            "Total params: 1,083,918\n",
            "Trainable params: 1,083,406\n",
            "Non-trainable params: 512\n",
            "_________________________________________________________________\n",
            "None\n"
          ],
          "name": "stdout"
        }
      ]
    },
    {
      "cell_type": "code",
      "metadata": {
        "id": "3pt0xR1Oasjx",
        "colab_type": "code",
        "outputId": "24d29016-5e14-4654-bfa6-36c3c6861448",
        "colab": {
          "base_uri": "https://localhost:8080/",
          "height": 479
        }
      },
      "source": [
        "#Model compilation\n",
        "start = datetime.now()\n",
        "convnet5.compile(optimizer=keras.optimizers.Adam(),\n",
        "                loss=keras.losses.categorical_crossentropy,\n",
        "                metrics=['accuracy'])\n",
        "convnet5_history=convnet5.fit(x_train,y_train,batch_size=batch_size,\n",
        "                             epochs=epochs,\n",
        "                             verbose=1,\n",
        "                             validation_data=(x_test, y_test))\n",
        "print(\"Time taken to run this cell :\", datetime.now() - start)"
      ],
      "execution_count": 0,
      "outputs": [
        {
          "output_type": "stream",
          "text": [
            "Train on 60000 samples, validate on 10000 samples\n",
            "Epoch 1/12\n",
            "60000/60000 [==============================] - 12s 198us/step - loss: 0.3049 - acc: 0.9015 - val_loss: 0.0398 - val_acc: 0.9874\n",
            "Epoch 2/12\n",
            "60000/60000 [==============================] - 10s 174us/step - loss: 0.0666 - acc: 0.9807 - val_loss: 0.0252 - val_acc: 0.9918\n",
            "Epoch 3/12\n",
            "60000/60000 [==============================] - 10s 174us/step - loss: 0.0481 - acc: 0.9864 - val_loss: 0.0282 - val_acc: 0.9915\n",
            "Epoch 4/12\n",
            "60000/60000 [==============================] - 10s 174us/step - loss: 0.0390 - acc: 0.9886 - val_loss: 0.0213 - val_acc: 0.9932\n",
            "Epoch 5/12\n",
            "60000/60000 [==============================] - 10s 174us/step - loss: 0.0309 - acc: 0.9911 - val_loss: 0.0211 - val_acc: 0.9937\n",
            "Epoch 6/12\n",
            "60000/60000 [==============================] - 10s 174us/step - loss: 0.0307 - acc: 0.9909 - val_loss: 0.0187 - val_acc: 0.9949\n",
            "Epoch 7/12\n",
            "60000/60000 [==============================] - 10s 175us/step - loss: 0.0257 - acc: 0.9924 - val_loss: 0.0166 - val_acc: 0.9954\n",
            "Epoch 8/12\n",
            "60000/60000 [==============================] - 10s 175us/step - loss: 0.0250 - acc: 0.9929 - val_loss: 0.0331 - val_acc: 0.9907\n",
            "Epoch 9/12\n",
            "60000/60000 [==============================] - 10s 174us/step - loss: 0.0222 - acc: 0.9933 - val_loss: 0.0209 - val_acc: 0.9941\n",
            "Epoch 10/12\n",
            "60000/60000 [==============================] - 11s 175us/step - loss: 0.0195 - acc: 0.9940 - val_loss: 0.0208 - val_acc: 0.9944\n",
            "Epoch 11/12\n",
            "60000/60000 [==============================] - 10s 175us/step - loss: 0.0186 - acc: 0.9941 - val_loss: 0.0149 - val_acc: 0.9958\n",
            "Epoch 12/12\n",
            "60000/60000 [==============================] - 10s 175us/step - loss: 0.0170 - acc: 0.9951 - val_loss: 0.0200 - val_acc: 0.9938\n",
            "Time taken to run this cell : 0:02:07.988247\n"
          ],
          "name": "stdout"
        }
      ]
    },
    {
      "cell_type": "code",
      "metadata": {
        "id": "WdmyErzg3qXb",
        "colab_type": "code",
        "outputId": "a91f6b1e-ce4c-4649-ef15-7f3e443602b9",
        "colab": {
          "base_uri": "https://localhost:8080/",
          "height": 318
        }
      },
      "source": [
        "#evaluating model\n",
        "score=convnet5.evaluate(x_test,y_test,verbose=0)\n",
        "test_score5=score[0]\n",
        "test_accuracy5=score[1]\n",
        "train_accuracy5=max(convnet5_history.history['acc'])\n",
        "print('test score :',test_score5)\n",
        "print('test Accuracy :',test_accuracy5)\n",
        "# error plot\n",
        "x=list(range(1,epochs+1))\n",
        "vy=convnet5_history.history['val_loss'] #validation loss\n",
        "ty=convnet5_history.history['loss'] # train loss\n",
        "plt_dynamic(x, vy, ty)"
      ],
      "execution_count": 0,
      "outputs": [
        {
          "output_type": "stream",
          "text": [
            "test score : 0.020020218063240464\n",
            "test Accuracy : 0.9938\n"
          ],
          "name": "stdout"
        },
        {
          "output_type": "display_data",
          "data": {
            "image/png": "[encoded data removed]",
            "text/plain": [
              "<Figure size 432x288 with 1 Axes>"
            ]
          },
          "metadata": {
            "tags": []
          }
        }
      ]
    },
    {
      "cell_type": "markdown",
      "metadata": {
        "id": "QQ_9n6394UDo",
        "colab_type": "text"
      },
      "source": [
        "**3 Model: 7 ConvNet with kernel_size=(2x2)**"
      ]
    },
    {
      "cell_type": "code",
      "metadata": {
        "id": "9fCMRvib4be0",
        "colab_type": "code",
        "outputId": "63432c71-4591-42ed-f379-6079d0e956d1",
        "colab": {
          "base_uri": "https://localhost:8080/",
          "height": 1000
        }
      },
      "source": [
        "convnet7=Sequential() # Initializing the model\n",
        "\n",
        "# First ConvNet\n",
        "convnet7.add(Conv2D(16,kernel_size=(2,2),\n",
        "                    activation='relu',\n",
        "                    padding='same',strides=(1,1),\n",
        "                    input_shape=input_shape))\n",
        "\n",
        "\n",
        "convnet7.add(Conv2D(32,kernel_size=(2,2),\n",
        "                    padding='same',strides=(2,2),\n",
        "                    activation='relu'))#Second Convnet\n",
        "#convnet7.add(MaxPooling2D(pool_size=(2,2)))\n",
        "#convnet7.add(Dropout(0.25))\n",
        "\n",
        "convnet7.add(Conv2D(64,kernel_size=(2,2),\n",
        "                    padding='same',\n",
        "                   activation='relu'))  # 3rd ConvNet\n",
        "#maxpooling by (2,2 ) ,dropout,flattening\n",
        "#convnet7.add(MaxPooling2D(pool_size=(2,2)))\n",
        "convnet7.add(Dropout(0.15))\n",
        "\n",
        "convnet7.add(Conv2D(96,kernel_size=(2,2),\n",
        "                    padding='same',\n",
        "                    activation='relu'))#fourth Convnet\n",
        "convnet7.add(MaxPooling2D(pool_size=(2,2)))\n",
        "convnet7.add(Dropout(0.39))\n",
        "convnet7.add(Conv2D(128,kernel_size=(2,2),\n",
        "                    padding='same',\n",
        "                    activation='relu'))#fifth Convnet\n",
        "convnet7.add(MaxPooling2D(pool_size=(2,2)))\n",
        "convnet7.add(Dropout(0.3))\n",
        "convnet7.add(Conv2D(164,kernel_size=(2,2),\n",
        "                    padding='same',\n",
        "                    activation='relu'))#sixth Convnet\n",
        "convnet7.add(Conv2D(164,kernel_size=(2,2),\n",
        "                    padding='same',strides=(1,1),\n",
        "                    activation='relu'))#seventh Convnet\n",
        "\n",
        "convnet7.add(MaxPooling2D(pool_size=(2,2)))\n",
        "convnet7.add(Dropout(0.4))\n",
        "convnet7.add(Flatten())\n",
        "\n",
        "#hidden_layer\n",
        "convnet7.add(Dense(256,\n",
        "                   activation='relu',\n",
        "                   kernel_initializer=he_normal(seed=None)))#1 hidden layer\n",
        "convnet7.add(BatchNormalization())\n",
        "convnet7.add(Dropout(0.5))\n",
        "convnet7.add(Dense(148,\n",
        "                   activation='relu',\n",
        "                   kernel_initializer=he_normal(seed=None)))#2 hidden layer\n",
        "convnet7.add(BatchNormalization())\n",
        "convnet7.add(Dropout(0.5))\n",
        "convnet7.add(Dense(128,\n",
        "                   activation='relu',\n",
        "                   kernel_initializer=he_normal(seed=None)))#3 hidden layer\n",
        "convnet7.add(BatchNormalization())\n",
        "convnet7.add(Dropout(0.5))\n",
        "convnet7.add(Dense(num_classes,activation='softmax'))\n",
        "print(convnet7.summary())"
      ],
      "execution_count": 0,
      "outputs": [
        {
          "output_type": "stream",
          "text": [
            "_________________________________________________________________\n",
            "Layer (type)                 Output Shape              Param #   \n",
            "=================================================================\n",
            "conv2d_9 (Conv2D)            (None, 28, 28, 16)        80        \n",
            "_________________________________________________________________\n",
            "conv2d_10 (Conv2D)           (None, 14, 14, 32)        2080      \n",
            "_________________________________________________________________\n",
            "conv2d_11 (Conv2D)           (None, 14, 14, 64)        8256      \n",
            "_________________________________________________________________\n",
            "dropout_9 (Dropout)          (None, 14, 14, 64)        0         \n",
            "_________________________________________________________________\n",
            "conv2d_12 (Conv2D)           (None, 14, 14, 96)        24672     \n",
            "_________________________________________________________________\n",
            "max_pooling2d_6 (MaxPooling2 (None, 7, 7, 96)          0         \n",
            "_________________________________________________________________\n",
            "dropout_10 (Dropout)         (None, 7, 7, 96)          0         \n",
            "_________________________________________________________________\n",
            "conv2d_13 (Conv2D)           (None, 7, 7, 128)         49280     \n",
            "_________________________________________________________________\n",
            "max_pooling2d_7 (MaxPooling2 (None, 3, 3, 128)         0         \n",
            "_________________________________________________________________\n",
            "dropout_11 (Dropout)         (None, 3, 3, 128)         0         \n",
            "_________________________________________________________________\n",
            "conv2d_14 (Conv2D)           (None, 3, 3, 164)         84132     \n",
            "_________________________________________________________________\n",
            "conv2d_15 (Conv2D)           (None, 3, 3, 164)         107748    \n",
            "_________________________________________________________________\n",
            "max_pooling2d_8 (MaxPooling2 (None, 1, 1, 164)         0         \n",
            "_________________________________________________________________\n",
            "dropout_12 (Dropout)         (None, 1, 1, 164)         0         \n",
            "_________________________________________________________________\n",
            "flatten_3 (Flatten)          (None, 164)               0         \n",
            "_________________________________________________________________\n",
            "dense_5 (Dense)              (None, 256)               42240     \n",
            "_________________________________________________________________\n",
            "batch_normalization_2 (Batch (None, 256)               1024      \n",
            "_________________________________________________________________\n",
            "dropout_13 (Dropout)         (None, 256)               0         \n",
            "_________________________________________________________________\n",
            "dense_6 (Dense)              (None, 148)               38036     \n",
            "_________________________________________________________________\n",
            "batch_normalization_3 (Batch (None, 148)               592       \n",
            "_________________________________________________________________\n",
            "dropout_14 (Dropout)         (None, 148)               0         \n",
            "_________________________________________________________________\n",
            "dense_7 (Dense)              (None, 128)               19072     \n",
            "_________________________________________________________________\n",
            "batch_normalization_4 (Batch (None, 128)               512       \n",
            "_________________________________________________________________\n",
            "dropout_15 (Dropout)         (None, 128)               0         \n",
            "_________________________________________________________________\n",
            "dense_8 (Dense)              (None, 10)                1290      \n",
            "=================================================================\n",
            "Total params: 379,014\n",
            "Trainable params: 377,950\n",
            "Non-trainable params: 1,064\n",
            "_________________________________________________________________\n",
            "None\n"
          ],
          "name": "stdout"
        }
      ]
    },
    {
      "cell_type": "code",
      "metadata": {
        "id": "2-CZKkTg46Us",
        "colab_type": "code",
        "outputId": "a15f3609-2dab-4e80-e6a3-e8009f6dd502",
        "colab": {
          "base_uri": "https://localhost:8080/",
          "height": 479
        }
      },
      "source": [
        "#Model compilation\n",
        "start=datetime.now()\n",
        "convnet7.compile(optimizer=keras.optimizers.Adam(),\n",
        "                loss=keras.losses.categorical_crossentropy,\n",
        "                metrics=['accuracy'])\n",
        "convnet7_history=convnet7.fit(x_train,y_train,batch_size=batch_size,\n",
        "                             epochs=epochs,\n",
        "                             verbose=1,\n",
        "                             validation_data=(x_test, y_test))\n",
        "print(\"Time taken to run this cell :\", datetime.now() - start)"
      ],
      "execution_count": 0,
      "outputs": [
        {
          "output_type": "stream",
          "text": [
            "Train on 60000 samples, validate on 10000 samples\n",
            "Epoch 1/12\n",
            "60000/60000 [==============================] - 10s 166us/step - loss: 1.9593 - acc: 0.3529 - val_loss: 0.7696 - val_acc: 0.6999\n",
            "Epoch 2/12\n",
            "60000/60000 [==============================] - 8s 131us/step - loss: 0.4815 - acc: 0.8555 - val_loss: 0.1117 - val_acc: 0.9697\n",
            "Epoch 3/12\n",
            "60000/60000 [==============================] - 8s 130us/step - loss: 0.2119 - acc: 0.9464 - val_loss: 0.0808 - val_acc: 0.9782\n",
            "Epoch 4/12\n",
            "60000/60000 [==============================] - 8s 131us/step - loss: 0.1483 - acc: 0.9622 - val_loss: 0.0688 - val_acc: 0.9840\n",
            "Epoch 5/12\n",
            "60000/60000 [==============================] - 8s 131us/step - loss: 0.1201 - acc: 0.9700 - val_loss: 0.0385 - val_acc: 0.9896\n",
            "Epoch 6/12\n",
            "60000/60000 [==============================] - 8s 131us/step - loss: 0.1062 - acc: 0.9738 - val_loss: 0.0345 - val_acc: 0.9912\n",
            "Epoch 7/12\n",
            "60000/60000 [==============================] - 8s 130us/step - loss: 0.0892 - acc: 0.9782 - val_loss: 0.0376 - val_acc: 0.9910\n",
            "Epoch 8/12\n",
            "60000/60000 [==============================] - 8s 131us/step - loss: 0.0836 - acc: 0.9793 - val_loss: 0.0391 - val_acc: 0.9900\n",
            "Epoch 9/12\n",
            "60000/60000 [==============================] - 8s 130us/step - loss: 0.0791 - acc: 0.9805 - val_loss: 0.0347 - val_acc: 0.9909\n",
            "Epoch 10/12\n",
            "60000/60000 [==============================] - 8s 132us/step - loss: 0.0702 - acc: 0.9827 - val_loss: 0.0365 - val_acc: 0.9914\n",
            "Epoch 11/12\n",
            "60000/60000 [==============================] - 8s 130us/step - loss: 0.0665 - acc: 0.9840 - val_loss: 0.0284 - val_acc: 0.9920\n",
            "Epoch 12/12\n",
            "60000/60000 [==============================] - 8s 130us/step - loss: 0.0619 - acc: 0.9845 - val_loss: 0.0307 - val_acc: 0.9925\n",
            "Time taken to run this cell : 0:01:37.623896\n"
          ],
          "name": "stdout"
        }
      ]
    },
    {
      "cell_type": "code",
      "metadata": {
        "id": "YvG1yTXq5WO3",
        "colab_type": "code",
        "outputId": "c29568b7-46f9-48b2-934a-363e6dd8f926",
        "colab": {
          "base_uri": "https://localhost:8080/",
          "height": 318
        }
      },
      "source": [
        "#evaluating model\n",
        "score=convnet7.evaluate(x_test,y_test,verbose=0)\n",
        "test_score7=score[0]\n",
        "test_accuracy7=score[1]\n",
        "train_accuracy7=max(convnet7_history.history['acc'])\n",
        "print('test score :',test_score7)\n",
        "print('test Accuracy :',test_accuracy7)\n",
        "# error plot\n",
        "x=list(range(1,epochs+1))\n",
        "vy=convnet7_history.history['val_loss'] #validation loss\n",
        "ty=convnet7_history.history['loss'] # train loss\n",
        "plt_dynamic(x, vy, ty)"
      ],
      "execution_count": 0,
      "outputs": [
        {
          "output_type": "stream",
          "text": [
            "test score : 0.03066713524685474\n",
            "test Accuracy : 0.9925\n"
          ],
          "name": "stdout"
        },
        {
          "output_type": "display_data",
          "data": {
            "image/png": "[encoded data removed]",
            "text/plain": [
              "<Figure size 432x288 with 1 Axes>"
            ]
          },
          "metadata": {
            "tags": []
          }
        }
      ]
    },
    {
      "cell_type": "markdown",
      "metadata": {
        "id": "rBoRj2bn5f3c",
        "colab_type": "text"
      },
      "source": [
        "**Observation**:"
      ]
    },
    {
      "cell_type": "code",
      "metadata": {
        "id": "t77KdhXk5iwI",
        "colab_type": "code",
        "outputId": "27c7df24-f674-4e31-f073-b743d52bee00",
        "colab": {
          "base_uri": "https://localhost:8080/",
          "height": 141
        }
      },
      "source": [
        "from prettytable import PrettyTable\n",
        "models=['3ConvNet with kernel 3x3',\n",
        "        '5ConvNet with kernel 5x5',\n",
        "        '7ConvNet with kernel 2x2']\n",
        "training_accuracy=[train_accuracy3,train_accuracy5,train_accuracy7]\n",
        "test_accuracy=[test_accuracy3,test_accuracy5,test_accuracy7]\n",
        "INDEX = [1,2,3]\n",
        "# Initializing prettytable\n",
        "Model_Performance = PrettyTable()\n",
        "# Adding columns\n",
        "Model_Performance.add_column(\"INDEX.\",INDEX)\n",
        "Model_Performance.add_column(\"MODEL_NAME\",models)\n",
        "Model_Performance.add_column(\"TRAINING ACCURACY\",training_accuracy)\n",
        "Model_Performance.add_column(\"TESTING ACCURACY\",test_accuracy)\n",
        "#Model_Performance.add_column(\"TEST SCORE\",test_score)\n",
        "\n",
        "# Printing the Model_Performance\n",
        "print(Model_Performance)"
      ],
      "execution_count": 0,
      "outputs": [
        {
          "output_type": "stream",
          "text": [
            "+--------+--------------------------+--------------------+------------------+\n",
            "| INDEX. |        MODEL_NAME        | TRAINING ACCURACY  | TESTING ACCURACY |\n",
            "+--------+--------------------------+--------------------+------------------+\n",
            "|   1    | 3ConvNet with kernel 3x3 |       0.9951       |      0.9924      |\n",
            "|   2    | 5ConvNet with kernel 5x5 |      0.99515       |      0.9938      |\n",
            "|   3    | 7ConvNet with kernel 2x2 | 0.9845166666666667 |      0.9925      |\n",
            "+--------+--------------------------+--------------------+------------------+\n"
          ],
          "name": "stdout"
        }
      ]
    }
  ]
}